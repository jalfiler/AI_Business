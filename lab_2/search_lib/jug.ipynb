{
 "cells": [
  {
   "cell_type": "markdown",
   "metadata": {},
   "source": [
    "#### Water Jug Problem\n",
    "\n",
    "The \"water jug\" problem can be stated as follows:  \n",
    "* you have a jug with a capacity of 7 liters of water, and a jug with a capacity of 3 liters of water, \n",
    "* you have a water source that will fill either jug to capacity\n",
    "* you have a drain that can be used to empty either jug  \n",
    "\n",
    "The available actions are\n",
    "* fill either jug from the water source\n",
    "* empty either jug into the drain\n",
    "* pour some water from a source jug into a destination jug.  The amount actually poured depends on the water level of the source jug and the capacity of the destination jug.   For example\n",
    "  * if you tried to pour the 3-capacity jug containing 2 liters into the 7-capacity jug containing 6 liters, the 3-capacity jug would contain 1 and the 7-capacity jug would contain 7\n",
    "  * if you tried to pour the 7-capacity jug containing 3 liters into the 3-capacity jug containing 0 liters, the 3-capacity jug would contain 3 liters and the 7-capacity jug would contain 0 liters\n",
    "  \n",
    "It costs 5 to fill either jug regardless of how much water is required.  It costs 3 to empty either jug regardless of how much water is emptied.  It costs 1 to transfer water from one jug to another, regardless of how much water is transferred.\n",
    "\n",
    "A *problem* consists of \n",
    "* Initial -- the initial contents of both jugs\n",
    "* Goal -- a desired fill level for each jug\n",
    "\n",
    "So for example, a problem is to find the lowest cost sequence of actions that starts with both jugs empty and results in 0 liters in the 3-liter jug and 3 liters in the 5-liter jug"
   ]
  },
  {
   "cell_type": "code",
   "execution_count": 1,
   "metadata": {},
   "outputs": [],
   "source": [
    "## First define your world state\n",
    "##  You should represent your actions as follows:\n",
    "##     (\"fill\", \"3cap\" ) and (\"fill\", \"7cap\")\n",
    "##     (\"empty\" \"3cap\") and (\"empty\", \"7cap\")\n",
    "##     (\"pour\", \"3cap\", <amount>) and (\"pour\", \"7cap\", <amount)  -- where for example\n",
    "##        (\"pour\", \"3cap\")   means \"Pour from the 3cap jug to the 7cap jug\"\n",
    "##              The rules above determine how much water is actually poured\n",
    "\n",
    "from searchClientInterface import WorldState\n",
    "import copy\n",
    "\n",
    "class JugWorldState(WorldState):\n",
    "    def __init__(self, capacities, levels):\n",
    "        self.capacities = capacities\n",
    "        self.levels = levels\n",
    "\n",
    "    def successors(self):\n",
    "        successors = []\n",
    "        for i in range(len(self.capacities)):\n",
    "            for j in range(len(self.capacities)):\n",
    "                if i != j:\n",
    "                    # Pour water from jug i to jug j\n",
    "                    amount_poured = min(self.levels[i], self.capacities[j] - self.levels[j])\n",
    "                    if amount_poured > 0:  # Check if pouring makes a difference\n",
    "                        new_levels = self.levels.copy()\n",
    "                        new_levels[i] -= amount_poured\n",
    "                        new_levels[j] += amount_poured\n",
    "                        successors.append((JugWorldState(self.capacities, new_levels), f\"Pour Jug{i+1} to Jug{j+1}\"))\n",
    "        \n",
    "        # Fill or empty each jug individually\n",
    "        for i in range(len(self.capacities)):\n",
    "            # Fill jug i\n",
    "            fill_levels = self.levels.copy()\n",
    "            fill_levels[i] = self.capacities[i]\n",
    "            if fill_levels != self.levels:  # Check if filling makes a difference\n",
    "                successors.append((JugWorldState(self.capacities, fill_levels), f\"Fill Jug{i+1}\"))\n",
    "\n",
    "            # Empty jug i\n",
    "            empty_levels = self.levels.copy()\n",
    "            empty_levels[i] = 0\n",
    "            if empty_levels != self.levels:  # Check if emptying makes a difference\n",
    "                successors.append((JugWorldState(self.capacities, empty_levels), f\"Empty Jug{i+1}\"))\n",
    "\n",
    "        return successors\n"
   ]
  },
  {
   "cell_type": "code",
   "execution_count": 2,
   "metadata": {},
   "outputs": [],
   "source": [
    "from searchClientInterface import Problem\n",
    "\n",
    "class JugProblem(Problem):\n",
    "    def __init__(self, capacities, initials, goals):\n",
    "        self.capacities = capacities\n",
    "        self.initials = initials\n",
    "        self.goals = goals\n",
    "\n",
    "    def initial(self):\n",
    "        return JugWorldState(self.capacities, self.initials)\n",
    "\n",
    "    def isGoal(self, state):\n",
    "        return state.levels == self.goals"
   ]
  },
  {
   "cell_type": "code",
   "execution_count": 6,
   "metadata": {},
   "outputs": [
    {
     "name": "stdout",
     "output_type": "stream",
     "text": [
      "BFS Result: ['Fill Jug2', 'Pour Jug2 to Jug1', 'Empty Jug1', 'Pour Jug2 to Jug1', 'Empty Jug1', 'Pour Jug2 to Jug1', 'Fill Jug2', 'Pour Jug2 to Jug1', 'Empty Jug1']\n",
      "BFS Stats: (23.89469200000002, 10542, 0, 20122)\n",
      "DFS Result: None\n",
      "DFS Stats: (0.1692740000000299, 1001, 0, 2499)\n"
     ]
    }
   ],
   "source": [
    "from searchClientInterface import BFSEvaluator, DFSEvaluator\n",
    "from searchFramework import aStarSearch\n",
    "\n",
    "# Define the problem\n",
    "initial = [0, 0]\n",
    "goal = [0, 5]\n",
    "problem = JugProblem([3, 7], initial, goal)\n",
    "\n",
    "# Test A* search with BFSEvaluator\n",
    "bfs_evaluator = BFSEvaluator()\n",
    "bfs_result, bfs_stats = aStarSearch(problem, bfs_evaluator)\n",
    "print(\"BFS Result:\", bfs_result)\n",
    "print(\"BFS Stats:\", bfs_stats)\n",
    "\n",
    "# Test A* search with DFSEvaluator\n",
    "dfs_evaluator = DFSEvaluator()\n",
    "dfs_result, dfs_stats = aStarSearch(problem, dfs_evaluator, limit=1000)\n",
    "print(\"DFS Result:\", dfs_result)\n",
    "print(\"DFS Stats:\", dfs_stats)\n"
   ]
  },
  {
   "cell_type": "markdown",
   "metadata": {},
   "source": [
    "Answer these questions (for this problem only):\n",
    "* Did DFS return the shortest plan?\n",
    "* In terms of Nodes explored, which method worked better?"
   ]
  },
  {
   "cell_type": "markdown",
   "metadata": {},
   "source": [
    "Based on the output:\n",
    "\n",
    "- DFS did not return a plan (`DFS Result: None`), and it explored 1001 nodes.\n",
    "- BFS returned a plan with actions `['Fill Jug2', 'Pour Jug2 to Jug1', 'Empty Jug1', 'Pour Jug2 to Jug1', 'Empty Jug1', 'Pour Jug2 to Jug1', 'Fill Jug2', 'Pour Jug2 to Jug1', 'Empty Jug1']` and explored 10542 nodes.\n",
    "\n",
    "\n",
    "1. **Did DFS return the shortest plan?**\n",
    "   - Since DFS did not return a plan, we cannot directly compare the lengths of plans. However, DFS tends to find a solution faster but may not guarantee the shortest path.\n",
    "\n",
    "2. **In terms of Nodes explored, which method worked better?**\n",
    "   - DFS explored fewer nodes (1001) compared to BFS (10542). In this case, DFS was more efficient in terms of nodes explored.\n",
    "\n",
    "The effectiveness of DFS (in terms of nodes explored) can depend on the nature of the problem and how the state space is organized."
   ]
  }
 ],
 "metadata": {
  "kernelspec": {
   "display_name": "Python 3 (ipykernel)",
   "language": "python",
   "name": "python3"
  },
  "language_info": {
   "codemirror_mode": {
    "name": "ipython",
    "version": 3
   },
   "file_extension": ".py",
   "mimetype": "text/x-python",
   "name": "python",
   "nbconvert_exporter": "python",
   "pygments_lexer": "ipython3",
   "version": "3.10.1"
  }
 },
 "nbformat": 4,
 "nbformat_minor": 2
}
