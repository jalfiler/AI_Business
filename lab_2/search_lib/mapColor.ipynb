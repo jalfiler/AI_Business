{
 "cells": [
  {
   "cell_type": "markdown",
   "metadata": {},
   "source": [
    "##### Graph Coloring\n",
    "\n",
    "* There a N locations, each with a name\n",
    "* There are k colors\n",
    "* There is a set of adjacency relationships between the locations\n",
    "* The goal is to assign a color to each locations such that no two adjacent locations have the same color\n"
   ]
  },
  {
   "cell_type": "markdown",
   "metadata": {},
   "source": [
    "```\n",
    "#  Here is the example from Russel and Norvig AI Textbook, Figure 6.1\n",
    "locations = ['WA', 'NT', 'Q', 'SA', 'NSW', 'V', 'T']\n",
    "colors = [\"red\", \"green\", \"blue\"]\n",
    "adjacencies = [('WA', 'NT'), ('WA', 'SA'), ('NT', 'SA'), ('NT', 'Q'), \n",
    "               ('SA', 'Q'), ('Q', 'NSW'), ('SA', 'NSW'), ('SA', 'V'),\n",
    "               ('NSW', 'V')]\n",
    "\n",
    "\n",
    "def mapColor(locations, colors, adjacencies):\n",
    "    soln, stats = aStarSearch(GCProblem(locations, colors, adjacencies), dfsEvaluator(), None, 50000)\n",
    "    return soln\n",
    "    \n",
    "print(mapColor(locations, colors, adjacencies))\n",
    "[('WA', 'red'),\n",
    " ('NT', 'green'),\n",
    " ('Q', 'red'),\n",
    " ('SA', 'blue'),\n",
    " ('NSW', 'green'),\n",
    " ('V', 'red'),\n",
    " ('T', 'red')]\n",
    " \n",
    "```\n"
   ]
  },
  {
   "cell_type": "code",
   "execution_count": 2,
   "metadata": {},
   "outputs": [],
   "source": [
    "from searchClientInterface import Evaluator, DFSEvaluator, WorldState, Problem\n",
    "from searchFramework import aStarSearch\n",
    "import time\n",
    "\n",
    "locations = ['WA', 'OR', 'ID', 'CA', 'NV', 'UT', 'AZ', 'CO', 'NM']\n",
    "colors = [\"red\", \"green\", \"blue\", \"yellow\"]\n",
    "adjacencies = [('WA', 'OR'), ('WA', 'ID'), ('OR', 'ID'), ('OR', 'CA'),\n",
    "               ('ID', 'CA'), ('CA', 'NV'), ('ID', 'NV'), ('ID', 'UT'),\n",
    "               ('CA', 'UT'), ('NV', 'UT'), ('NV', 'AZ'), ('UT', 'AZ'),\n",
    "               ('AZ', 'CO'), ('NM', 'AZ')]\n",
    "\n",
    "class GCWorldState(WorldState):\n",
    "    def __init__(self, assignments):\n",
    "        self.assignments = assignments\n",
    "\n",
    "    def successors(self):\n",
    "        unassigned_locations = [loc for loc in locations if self.assignments[loc] is None]\n",
    "        current_loc = unassigned_locations[0]\n",
    "\n",
    "        successor_states = []\n",
    "        for color in colors:\n",
    "            if self.is_color_valid(current_loc, color):\n",
    "                new_assignments = self.assignments.copy()\n",
    "                new_assignments[current_loc] = color\n",
    "                successor_states.append((GCWorldState(new_assignments), f\"Assign {color} to {current_loc}\"))\n",
    "\n",
    "        return successor_states\n",
    "\n",
    "    def is_color_valid(self, location, color):\n",
    "        for adj_loc in [adj for adj in locations if (location, adj) in adjacencies or (adj, location) in adjacencies]:\n",
    "            if self.assignments[adj_loc] == color:\n",
    "                return False\n",
    "        return True\n",
    "\n",
    "class GCProblem(Problem):\n",
    "    def __init__(self, locations, colors, adjacencies):\n",
    "        self.locations = locations\n",
    "        self.colors = colors\n",
    "        self.adjacencies = adjacencies\n",
    "\n",
    "    def initial(self):\n",
    "        return GCWorldState({location: None for location in self.locations})\n",
    "\n",
    "    def isGoal(self, state):\n",
    "        return all(state.assignments[loc] is not None for loc in self.locations)\n",
    "\n",
    "def mapColor(locations, colors, adjacencies):\n",
    "    soln, stats = aStarSearch(GCProblem(locations, colors, adjacencies), DFSEvaluator(), verbose=True, limit=50000)\n",
    "    return soln\n"
   ]
  },
  {
   "cell_type": "markdown",
   "metadata": {},
   "source": [
    "Use your code to solve this problem:\n",
    "\n",
    "![test](mapColorWesternUS.GIF)\n",
    "\n",
    "Your solution should be in a function solveWesternStates()"
   ]
  },
  {
   "cell_type": "code",
   "execution_count": null,
   "metadata": {},
   "outputs": [],
   "source": [
    "def solveWesternStates():\n",
    "    return mapColor(locations, colors, adjacencies)\n",
    "\n",
    "print(mapColor(locations, colors, adjacencies))"
   ]
  }
 ],
 "metadata": {
  "kernelspec": {
   "display_name": "Python 3 (ipykernel)",
   "language": "python",
   "name": "python3"
  },
  "language_info": {
   "codemirror_mode": {
    "name": "ipython",
    "version": 3
   },
   "file_extension": ".py",
   "mimetype": "text/x-python",
   "name": "python",
   "nbconvert_exporter": "python",
   "pygments_lexer": "ipython3",
   "version": "3.10.9"
  }
 },
 "nbformat": 4,
 "nbformat_minor": 4
}
