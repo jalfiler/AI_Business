{
 "cells": [
  {
   "cell_type": "markdown",
   "metadata": {},
   "source": [
    "### Constraint Satisfaction Lab\n",
    "\n",
    "<span style=\"color:red\">Jomaica Lei</span>\n",
    "\n",
    "Notice that you are delivering four functions, but your submitted notebook does not call the functions.  Please do \"Restart Kernel and Clear Output\" prior to submitting.  If I then \"Run All\" on your notebook, I should see *no* output.  I will put the code to run your functions at the end of the notebook when I grade it."
   ]
  },
  {
   "cell_type": "markdown",
   "metadata": {},
   "source": [
    "#### Map Coloring\n",
    "\n",
    "* There a N locations, each with a name\n",
    "* There are k colors\n",
    "* There is a set of adjacency relationships between the locations\n",
    "* The goal is to assign a color to each locations such that no two adjacent locations have the same color\n"
   ]
  },
  {
   "cell_type": "markdown",
   "metadata": {},
   "source": [
    "Use the constraint library to solve this problem:\n",
    "\n",
    "![test](mapColorWesternUS.GIF)\n",
    "\n",
    "Your solution should be in a function solveWesternStates(), and it should produce a single solution if one exists, delivered as a dictionary mapping a state name to its assigned color.  For example the picture above is a solution which would look like:\n",
    "```\n",
    "{'WA': 'green', 'OR': 'yellow', 'ID': 'red', 'CA': 'blue', 'NV', 'green', \n",
    " 'UT': 'blue', 'AZ': 'red', 'CO': 'yellow', 'NM': 'blue'}\n",
    "```\n",
    "Your function does not need to return that solution -- if there is more than one solution, your function may return any of them.  Your function should return ```None``` if there is no solution (but of course there is a solution because the diagram shows one!).  Still, add the code checking for no solutions, just to be tidy."
   ]
  },
  {
   "cell_type": "code",
   "execution_count": null,
   "metadata": {},
   "outputs": [],
   "source": [
    "colors = [\"green\", \"yellow\", \"blue\", \"red\"]"
   ]
  },
  {
   "cell_type": "code",
   "execution_count": null,
   "metadata": {},
   "outputs": [],
   "source": [
    "from constraint import *\n",
    "\n",
    "# variables are states; domains are colors\n",
    "\n",
    "def solveWesternStates():\n",
    "    locations = ['WA', 'OR', 'ID', 'CA', 'NV', 'UT', 'AZ', 'CO', 'NM']\n",
    "    adjacencies = {\n",
    "        \"WA\": [\"OR\", \"ID\"],\n",
    "        \"OR\": [\"WA\", \"ID\", \"CA\"],\n",
    "        \"ID\": [\"WA\", \"OR\", \"CA\", \"NV\", \"UT\"],\n",
    "        \"CA\": [\"OR\", \"ID\", \"NV\"],\n",
    "        \"NV\": [\"OR\", \"CA\", \"ID\", \"UT\", \"AZ\"],\n",
    "        \"UT\": [\"ID\", \"NV\", \"AZ\"],\n",
    "        \"AZ\": [\"NV\", \"UT\"],\n",
    "        \"CO\": [\"NM\"],\n",
    "        \"NM\": [\"CO\"]\n",
    "    }\n",
    "\n",
    "    problem = Problem()\n",
    "\n",
    "    # add variables\n",
    "    for location in locations:\n",
    "        problem.addVariable(location, colors)\n",
    "\n",
    "    # add constraints \n",
    "    for location, neighbors in adjacencies.items():\n",
    "        for neighbor in neighbors:\n",
    "            problem.addConstraint(lambda color1, color2: color1 != color2, (location, neighbor))\n",
    "\n",
    "    # find a solution\n",
    "    solution = problem.getSolution()\n",
    "\n",
    "    # return None if no solution\n",
    "    if solution:\n",
    "        return solution\n",
    "    else:\n",
    "        return None\n"
   ]
  },
  {
   "cell_type": "markdown",
   "metadata": {},
   "source": [
    "What is the minimum number of colors required to color this map?  Write a function ```westernStatesMinColors()``` that returns the minimum number of colors required to color the map."
   ]
  },
  {
   "cell_type": "code",
   "execution_count": null,
   "metadata": {},
   "outputs": [],
   "source": [
    "def westernStatesMinColors():\n",
    "    locations = ['WA', 'OR', 'ID', 'CA', 'NV', 'UT', 'AZ', 'CO', 'NM']\n",
    "    adjacencies = {\n",
    "        \"WA\": [\"OR\", \"ID\"],\n",
    "        \"OR\": [\"WA\", \"ID\", \"CA\"],\n",
    "        \"ID\": [\"WA\", \"OR\", \"CA\", \"NV\", \"UT\"],\n",
    "        \"CA\": [\"OR\", \"ID\", \"NV\"],\n",
    "        \"NV\": [\"OR\", \"CA\", \"ID\", \"UT\", \"AZ\"],\n",
    "        \"UT\": [\"ID\", \"NV\", \"AZ\"],\n",
    "        \"AZ\": [\"NV\", \"UT\"],\n",
    "        \"CO\": [\"NM\"],\n",
    "        \"NM\": [\"CO\"]\n",
    "    }\n",
    "    \n",
    "    max_degree = 0\n",
    "\n",
    "    for location in locations:\n",
    "        degree = len(adjacencies[location])\n",
    "        max_degree = max(max_degree, degree)\n",
    "\n",
    "    return max_degree + 1"
   ]
  },
  {
   "cell_type": "code",
   "execution_count": null,
   "metadata": {},
   "outputs": [],
   "source": [
    "solution = solveWesternStates()\n",
    "min_colors = westernStatesMinColors()\n",
    "\n",
    "print(solution)\n",
    "print(min_colors)"
   ]
  },
  {
   "cell_type": "markdown",
   "metadata": {},
   "source": [
    "----------------------------------------------------------------------"
   ]
  },
  {
   "cell_type": "markdown",
   "metadata": {},
   "source": [
    "#### Simple Job-Shop Scheduling\n",
    "\n",
    "* Job 1 has two tasks:  polishing and drilling\n",
    "* Job 2 has two tasks: painting and drilling\n",
    "* Painting has to be done before drilling for any given part\n",
    "* Polishing and drilling can be done in either order\n",
    "* You cannot do two operations of the same job at the same time\n",
    "* Painting requires the painting machine and an attendant\n",
    "* Polishing requires the polishing machine and an attendant\n",
    "* There is only one attendant\n",
    "* If the shop starts at time 0 and each task takes 1 time unit, at what times should the tasks begin?\n",
    "\n",
    "Your function will be ```solveJobShop()``` which will return a dictionary with the times at which each task should be begun.  The tasks will be named ```'polishing1', 'drilling1', 'painting2' and 'drilling2'```.  Here is an example dictionary, just to illustrate the format of the solution.  It is not a valid solution so don't try to duplicate this output!\n",
    "```\n",
    "{'polishing1': 0,  'drilling1': 1, 'drilling2': 1, 'painting2': 2}\n",
    "```"
   ]
  },
  {
   "cell_type": "code",
   "execution_count": null,
   "metadata": {},
   "outputs": [],
   "source": [
    "from constraint import *\n",
    "\n",
    "def solveJobShop():\n",
    "    tasks = ['polishing1', 'drilling1', 'painting2', 'drilling2']\n",
    "    dependencies = [('painting2', 'drilling2')]\n",
    "    \n",
    "    resources = {'polishing1': ['polishing_machine', 'attendant'],\n",
    "                 'drilling1': ['drilling_machine'],\n",
    "                 'painting2': ['painting_machine', 'attendant'],\n",
    "                 'drilling2': ['drilling_machine']}\n",
    "    \n",
    "    problem = Problem()\n",
    "\n",
    "    # add variables\n",
    "    for task in tasks:\n",
    "        problem.addVariable(task, resources[task])\n",
    "\n",
    "    # add constraints\n",
    "    for dependency in dependencies:\n",
    "        problem.addConstraint(lambda t1, t2: t1 != t2, dependency)\n",
    "\n",
    "    # find a solution\n",
    "    solution = problem.getSolution()\n",
    "    return solution\n",
    "    "
   ]
  },
  {
   "cell_type": "code",
   "execution_count": null,
   "metadata": {},
   "outputs": [],
   "source": [
    "solveJobShop()"
   ]
  },
  {
   "cell_type": "markdown",
   "metadata": {},
   "source": [
    "----------------------------------------------------------------------"
   ]
  },
  {
   "cell_type": "markdown",
   "metadata": {},
   "source": [
    "#### The Zoo in Killian Court\n",
    "\n",
    "(This is from an old MIT problem set.)\n",
    "\n",
    "MIT has decided to open a new zoo in Killian Court. They have obtained seven\n",
    "animals and built four enclosures. Because there are more animals than enclosures, some animals\n",
    "have to be in the same enclosures as others. However, the animals are very picky about who they live\n",
    "with. The MIT administration is having trouble assigning animals to enclosures, just as they often have\n",
    "trouble assigning students to residences. They have asked you to plan where\n",
    "each animal goes.\n",
    "\n",
    "The animals chosen are a LION, ANTELOPE, HYENA, EVIL LION, HORNBILL, MEERKAT, and BOAR.\n",
    "\n",
    "![Zoo](zoo.GIF)\n",
    "\n",
    "Each numbered area is a zoo enclosure. Multiple animals can go into the same enclosure, and not all\n",
    "enclosures have to be filled.\n",
    "\n",
    "Each animal has restrictions about where it can be placed.\n",
    "\n",
    "1. The LION and the EVIL LION hate each other, and do not want to be in the same enclosure.\n",
    "1. The MEERKAT and BOAR are best friends, and have to be in the same enclosure.\n",
    "1. The HYENA smells bad. Only the EVIL LION will share his enclosure.\n",
    "1. The EVIL LION wants to eat the MEERKAT, BOAR, and HORNBILL.\n",
    "1. The LION and the EVIL LION want to eat the ANTELOPE so badly that the ANTELOPE cannot be\n",
    "in either the same enclosure or in an enclosure adjacent to the LION or EVIL LION.\n",
    "1. The LION annoys the HORNBILL, so the HORNBILL doesn't want to be in the LION's enclosure.\n",
    "1. The LION is king, so he wants to be in enclosure 1.\n",
    "\n",
    "Write a function ```solveZoo()``` that produces a dictionary assigning animals to enclosures.  It should return just 1 solution, and None if no solution exists.  The animal names are defined below.  Enclosure numbers are 1, 2, 3, 4."
   ]
  },
  {
   "cell_type": "code",
   "execution_count": null,
   "metadata": {},
   "outputs": [],
   "source": [
    "animals = [\"Lion\", \"Antelope\", \"Hyena\", \"EvilLion\", \"Hornbill\", \"Meerkat\", \"Boar\"]"
   ]
  },
  {
   "cell_type": "code",
   "execution_count": null,
   "metadata": {},
   "outputs": [],
   "source": [
    "from constraint import *\n",
    "\n",
    "def solveZoo():\n",
    "    enclosures = [1,2,3,4]\n",
    "\n",
    "    problem = Problem()\n",
    "\n",
    "    # add variables\n",
    "    for animal in animals:\n",
    "        problem.addVariable(animal, enclosures)\n",
    "\n",
    "    # add constraints \n",
    "    problem.addConstraint(lambda lion, evil_lion: lion != evil_lion, [\"Lion\", \"EvilLion\"])\n",
    "    problem.addConstraint(lambda meerkat, boar: meerkat == boar, [\"Meerkat\", \"Boar\"])\n",
    "    problem.addConstraint(lambda evil_lion, hyena: evil_lion == hyena, [\"EvilLion\", \"Hyena\"])\n",
    "    problem.addConstraint(lambda evil_lion, meerkat, boar, hornbill: evil_lion != meerkat and evil_lion != boar and evil_lion != hornbill, [\"EvilLion\", \"Meerkat\", \"Boar\", \"Hornbill\"])\n",
    "    problem.addConstraint(lambda lion, evil_lion, antelope: lion != antelope and evil_lion != antelope and abs(lion - antelope) != 1 and abs(evil_lion - antelope) != 1, [\"Lion\", \"EvilLion\", \"Antelope\"])\n",
    "    problem.addConstraint(lambda lion, hornbill: lion != hornbill, [\"Lion\", \"Hornbill\"])\n",
    "    problem.addConstraint(lambda hornbill: hornbill != 1, [\"Hornbill\"])\n",
    "    problem.addConstraint(lambda lion: lion == 1, [\"Lion\"])  # add the constraint for Lion\n",
    "\n",
    "    # find a solution\n",
    "    solution = problem.getSolution()\n",
    "\n",
    "    # return None if no solution\n",
    "    if solution:\n",
    "        return solution\n",
    "    else:\n",
    "        return None\n"
   ]
  },
  {
   "cell_type": "code",
   "execution_count": null,
   "metadata": {},
   "outputs": [],
   "source": [
    "solveZoo()"
   ]
  }
 ],
 "metadata": {
  "kernelspec": {
   "display_name": "Python 3 (ipykernel)",
   "language": "python",
   "name": "python3"
  },
  "language_info": {
   "codemirror_mode": {
    "name": "ipython",
    "version": 3
   },
   "file_extension": ".py",
   "mimetype": "text/x-python",
   "name": "python",
   "nbconvert_exporter": "python",
   "pygments_lexer": "ipython3",
   "version": "3.10.1"
  }
 },
 "nbformat": 4,
 "nbformat_minor": 2
}
