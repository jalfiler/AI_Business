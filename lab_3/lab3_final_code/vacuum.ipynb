{
 "cells": [
  {
   "cell_type": "markdown",
   "metadata": {},
   "source": [
    "### Planning Agent / Send Sucky Home Efficiently\n",
    "\n",
    "So far you have\n",
    "\n",
    "1.  Your GoHomeAgent from Lab 1.  It explores around and sucks dirt until its battery reaches a threshold level, then tries to find its way back to (1,1).  Lacking the ability to plan, it does not do so very well\n",
    "2.  The PlanningAgent introduced the concept of a *path*  -- a list of squares from A to B such that the path begins at A and ends at B and every square in the list is not a wall, and is *adjacent* to the ones surrounding it.  The planning agent also has the code to make Sucky follow a path.\n",
    "3.  The module ``shortestpath.py`` builds a path, and it is missing.  It implements a function ```shortest_path(source_pos, dest_pos, free_squares)```.  You need to implement that function using the search module from Lab 2.   This notebook will help you do write that function.\n",
    "\n",
    "Once you have the ```shortest_path``` function working, you will then copy it to a file ```shortestpath.py``` and you will copy in your ```GoHomeAgent``` from lab 1, and you will modify the agent so when its battery reaches threshold it will plan a path from where it is to (1,1), then execute the plan, then execute the action ```ACTION_STOP```\n",
    "\n"
   ]
  },
  {
   "cell_type": "code",
   "execution_count": 1,
   "metadata": {},
   "outputs": [],
   "source": [
    "from agents.searchClientInterface import WorldState\n",
    "from agents.searchClientInterface import Problem\n",
    "from agents.searchClientInterface import BFSEvaluator\n",
    "from agents.searchFramework import aStarSearch\n",
    "import copy"
   ]
  },
  {
   "cell_type": "code",
   "execution_count": 13,
   "metadata": {},
   "outputs": [],
   "source": [
    "##  Build your world state.\n",
    "##  HINT.  Your \"plan\" is a sequence of square coordinates.  Your \"current state\"\n",
    "##  is the state the planning agent is in.  \n",
    "\n",
    "class ShortestPathWorldState(WorldState):\n",
    "    \n",
    "    def __init__(self, start_square, free_squares):\n",
    "        self._current_square = start_square\n",
    "        self._free_squares = set(free_squares)\n",
    "    \n",
    "    # Convenience function to make these objects print nicely\n",
    "    def __str__(self):\n",
    "        return \"{\" + str(self._square) + \"}\"\n",
    "    \n",
    "    def __eq__(self, other):\n",
    "        return self._current_square == other._current_square\n",
    "\n",
    "    def __hash__(self):\n",
    "        return hash(self._current_square)\n",
    "    \n",
    "    #  Create a successor state for every square that is adjacent \n",
    "    #  to the current state's current position\n",
    "    \n",
    "    def successors(self):\n",
    "        return [self.make_adjacent_state(adj) for adj in self.adjacencies(self._current_square)] \n",
    "    \n",
    "    #  This is the state where we move from _square to the square\n",
    "    #  Remember this function has to return a pair (newState, action)\n",
    "    #  For our path planning, the \"action\" will be the next square in the path.\n",
    "    #  For example, if the current square is (2,2) and the adjacency passed in is (1,2)\n",
    "    #  then this function would return (<state where current square is (1,2)>, (1,2))\n",
    "    #  That is, in the new state the agent is at square (1,2) and (1,2) is also added\n",
    "    #  to the action list\n",
    "    \n",
    "    def make_adjacent_state(self, adjacency):\n",
    "        # Check if the adjacency is a valid move\n",
    "        if adjacency in self._free_squares:\n",
    "            new_state = ShortestPathWorldState(adjacency, self._free_squares - {adjacency})\n",
    "            return new_state, adjacency\n",
    "        else:\n",
    "            return None\n",
    "    \n",
    "    # Return a list of all the squares in the free_squares list that are adjacent\n",
    "    # to the square passed as parameter.\n",
    "    # For example if the \"current square\" is (2,2) then all the adjacent squares\n",
    "    # are (1,2), (2,1), (2,3), (3,2) -- but you want to return only those squares\n",
    "    # that are on the free_square_list that was passed in via the constructor\n",
    "\n",
    "    def adjacencies(self, square):\n",
    "        adjacent_squares = [(square[0] - 1, square[1]), (square[0] + 1, square[1]),\n",
    "                            (square[0], square[1] - 1), (square[0], square[1] + 1)]\n",
    "        return [adj for adj in adjacent_squares if adj in self._free_squares]\n"
   ]
  },
  {
   "cell_type": "code",
   "execution_count": 14,
   "metadata": {},
   "outputs": [],
   "source": [
    "#  Now define the problem:  a problem is the initial square, the destination square, \n",
    "#  and the list of free squares\n",
    "\n",
    "class ShortestPathProblem(Problem):\n",
    "    \n",
    "    def __init__(self, initial_square, dest_square, free_squares):\n",
    "        self.initial_square = initial_square\n",
    "        self.dest_square = dest_square\n",
    "        self.free_squares = set(free_squares) \n",
    "\n",
    "    def initial(self):\n",
    "        return ShortestPathWorldState(self.initial_square, self.free_squares)\n",
    "\n",
    "    def isGoal(self, state):\n",
    "        return state._current_square == self.dest_square"
   ]
  },
  {
   "cell_type": "code",
   "execution_count": 15,
   "metadata": {},
   "outputs": [],
   "source": [
    "##  Your shortest path function is just a call to aStarSearch\n",
    "##  Remember, shortest_path should return (just) the path:  a list \n",
    "##  of squares starting at the source and ending at the destination, \n",
    "##  and passing through adjacent squares in the free_square_list\n",
    "\n",
    "def shortest_path(source_square, dest_square, free_square_list):\n",
    "    # Check if the source and destination are the same\n",
    "    if source_square == dest_square:\n",
    "        return []\n",
    "\n",
    "    # Create a ShortestPathProblem instance with the given parameters\n",
    "    problem = ShortestPathProblem(source_square, dest_square, free_square_list)\n",
    "\n",
    "    # Perform A* search using BFSEvaluator\n",
    "    solution = aStarSearch(problem, BFSEvaluator())\n",
    "\n",
    "    # Extract and return the path from the solution\n",
    "    path = solution[0] if solution else []  # If solution is None, return an empty path\n",
    "    return path\n"
   ]
  },
  {
   "cell_type": "markdown",
   "metadata": {},
   "source": [
    "Example for an agent who is at (4,4) and wants to go home\n",
    "\n",
    "```\n",
    "source_square = (4,4)\n",
    "dest_square = (1,1)\n",
    "free_squares = [(1,1), (2,1), (2,2), (1,3), (1,4), (2,3), (2,4), (3,4), (4,4)]\n",
    "print(shortest_path(source_square, dest_square, free_squares))\n",
    "\n",
    "[(3, 4), (2, 4), (2, 3), (2, 2), (2, 1), (1, 1)]\n",
    "```"
   ]
  },
  {
   "cell_type": "code",
   "execution_count": 16,
   "metadata": {},
   "outputs": [
    {
     "name": "stdout",
     "output_type": "stream",
     "text": [
      "[(3, 4), (2, 4), (2, 3), (2, 2), (2, 1), (1, 1)]\n"
     ]
    }
   ],
   "source": [
    "## Test your code on the example above\n",
    "\n",
    "source_square = (4,4)\n",
    "dest_square = (1,1)\n",
    "free_squares = [(1,1), (2,1), (2,2), (1,3), (1,4), (2,3), (2,4), (3,4), (4,4)]\n",
    "\n",
    "# Test the shortest_path function\n",
    "result_path = shortest_path(source_square, dest_square, free_squares)\n",
    "\n",
    "# Print the result\n",
    "print(result_path)"
   ]
  }
 ],
 "metadata": {
  "kernelspec": {
   "display_name": "Python 3 (ipykernel)",
   "language": "python",
   "name": "python3"
  },
  "language_info": {
   "codemirror_mode": {
    "name": "ipython",
    "version": 3
   },
   "file_extension": ".py",
   "mimetype": "text/x-python",
   "name": "python",
   "nbconvert_exporter": "python",
   "pygments_lexer": "ipython3",
   "version": "3.10.1"
  }
 },
 "nbformat": 4,
 "nbformat_minor": 2
}
