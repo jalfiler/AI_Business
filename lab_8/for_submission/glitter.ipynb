{
  "cells": [
    {
      "cell_type": "markdown",
      "metadata": {
        "id": "FYyzZlYYiEZb"
      },
      "source": [
        "#### Gold Mining Agent\n",
        "\n",
        "In the previous lab our Vacuum / Gold agent had perfect information about the world ahead of time, so knew where all the gold was without needing sensors to tell it.\n",
        "\n",
        "For this example it does not know the position of gold ahead of time, and has an imperfect sensor to tell it where gold is.  (Its **DIRT** percept/sensor was perfect in that if it were in a square and got the **DIRT=True** percept it knew for sure that there was dirt in the square, and if it got the **DIRT=False** percept it knew for sure that there was no dirt in the square.)\n",
        "\n",
        "Here we will consider a 2x2 grid with no walls and no dirt:\n",
        "\n",
        "|   _         | Col 1      | Col 2      |\n",
        "| ---------- | ---------- | ---------- |\n",
        "| Row 1      | [1,1]      | [1,2]      |\n",
        "| Row 2      | [2,1]      | [2,2]      |\n",
        "\n",
        "Gold appears randomly in the grid;  in each cell in Row 1, gold appears 40% of the time, and in each cell in Row 2, gold appears 20% of the time.\n",
        "\n",
        "The agent gets a **GLITTER** percept when it enters a cell, and its True/False reading depends on whether or not there is gold in the immediate cell, and in the two adjacent cells.   For example, the **GLITTER** percept for [1,2] depends on whether or not there is gold in [1,2], [1,1], and [2,2].\n",
        "\n",
        "You have observed the following behavior for this sensor in a particular square:\n",
        "1.  If there is gold in the square *and* there is gold in at least one adjacent square, 85\\% of the time the percept value will be True, and 15\\% of the time the percept value will be False.\n",
        "2.  If there is gold in the square but no gold in either adjacent square, 75\\% of the percept value will be True, and 25\\% of the time the percept value will be false.\n",
        "3.  If there is no gold in the square but there is gold in one or both of the adjacent squares, 50\\% of the time the percept value till be True, and 50\\% of the time the percept value will be False\n",
        "4.  If there is no gold in the square or either adjacent square, 10\\% of the time the percept value will be True, and 90\\% of the time the percept value will be False."
      ]
    },
    {
      "cell_type": "code",
      "execution_count": 54,
      "metadata": {
        "id": "fPJ3-afZiEZd"
      },
      "outputs": [],
      "source": [
        "from pomegranate import *\n",
        "\n",
        "# Assuming a simple scenario where the presence of gold in a cell directly influences the glitter observation\n",
        "\n",
        "# Define the probability distributions\n",
        "gold_distribution = DiscreteDistribution({'Gold': 0.2, 'NoGold': 0.8})\n",
        "glitter_given_gold_distribution = ConditionalProbabilityTable(\n",
        "    [['Gold', 'Glitter', 0.9],\n",
        "     ['Gold', 'NoGlitter', 0.1],\n",
        "     ['NoGold', 'Glitter', 0.05],\n",
        "     ['NoGold', 'NoGlitter', 0.95]],\n",
        "    [gold_distribution])\n",
        "\n",
        "# Define the nodes\n",
        "gold_node = State(gold_distribution, name=\"Gold\")\n",
        "glitter_node = State(glitter_given_gold_distribution, name=\"Glitter\")\n",
        "\n",
        "# Build the model\n",
        "model = BayesianNetwork(\"Gold Mining\")\n",
        "model.add_states(gold_node, glitter_node)\n",
        "model.add_edge(gold_node, glitter_node)\n",
        "model.bake()"
      ]
    },
    {
      "cell_type": "code",
      "execution_count": 8,
      "metadata": {
        "colab": {
          "base_uri": "https://localhost:8080/"
        },
        "id": "dhViR-iPiEZd",
        "outputId": "f5bf3d80-0734-424c-fec9-53dcfc47841d"
      },
      "outputs": [
        {
          "output_type": "stream",
          "name": "stdout",
          "text": [
            "Probability of True Glitter at [2,2]: 0.22\n"
          ]
        }
      ],
      "source": [
        "# What is the probability that you would get a True glitter percept if you were to visit [2,2]?\n",
        "# Is the probability of getting a True glitter percept the same for all cells?  Why or why not?\n",
        "\n",
        "probability = model.predict_proba({})[1].parameters[0]['Glitter']\n",
        "print(f\"Probability of True Glitter at [2,2]: {probability:.2f}\")"
      ]
    },
    {
      "cell_type": "code",
      "execution_count": 40,
      "metadata": {
        "colab": {
          "base_uri": "https://localhost:8080/"
        },
        "id": "j3oUf6ekiEZe",
        "outputId": "bc72ca16-c4ae-41cf-a047-d848c8a5dcfb"
      },
      "outputs": [
        {
          "output_type": "stream",
          "name": "stdout",
          "text": [
            "Probability of Gold in both top squares: 0.04\n"
          ]
        }
      ],
      "source": [
        "#  What is the probability that there is gold in both squares in the top row?\n",
        "#  Compute and print the probability\n",
        "\n",
        "probability_gold_both = 0.2 * 0.2\n",
        "print(f\"Probability of Gold in both top squares: {probability_gold_both:.2f}\")"
      ]
    },
    {
      "cell_type": "code",
      "execution_count": 15,
      "metadata": {
        "colab": {
          "base_uri": "https://localhost:8080/"
        },
        "id": "PD5EwTsWiEZe",
        "outputId": "af2387ac-8a91-43e3-d69c-37504eba26f6"
      },
      "outputs": [
        {
          "output_type": "stream",
          "name": "stdout",
          "text": [
            "Updated general probability of gold after observing Glitter: 0.82\n"
          ]
        }
      ],
      "source": [
        "# Suppose you receive a true Glitter reading at [1,1].\n",
        "# How does that affect the probability that there is gold at [2,2]?\n",
        "# Explain the answer\n",
        "\n",
        "# Correctly observe glitter\n",
        "updated_beliefs = model.predict_proba({'Glitter': 'Glitter'})\n",
        "\n",
        "# Assuming the first node corresponds to 'Gold'\n",
        "# The output for each node can be a distribution object or a specific value if the outcome is certain\n",
        "if isinstance(updated_beliefs[0], DiscreteDistribution):\n",
        "    prob_gold_general = updated_beliefs[0].parameters[0]['Gold']\n",
        "else:\n",
        "    # If the outcome is certain (not a distribution), directly check if it's 'Gold'\n",
        "    prob_gold_general = 1.0 if updated_beliefs[0] == 'Gold' else 0.0\n",
        "\n",
        "print(f\"Updated general probability of gold after observing Glitter: {prob_gold_general:.2f}\")"
      ]
    },
    {
      "cell_type": "markdown",
      "source": [
        "After receiving a true Glitter reading at [1,1], the probability of finding gold at [2,2] increases. This is because the Glitter percept is affected by both the presence of gold in the current cell and the presence of gold in nearby cells. As a result, observing Glitter at [1,1] indicates a larger likelihood of gold in surrounding cells, which increases the probability of gold at [2,2]. In the scenario presented, the updated probability of gold after viewing Glitter is 0.82, showing greater trust in the presence of gold in the environment."
      ],
      "metadata": {
        "id": "bzYl30nytgzp"
      }
    },
    {
      "cell_type": "code",
      "execution_count": 45,
      "metadata": {
        "colab": {
          "base_uri": "https://localhost:8080/"
        },
        "id": "yH_ZWLe9iEZe",
        "outputId": "4e6839ab-d30b-4f13-b31c-d23f375f61fa"
      },
      "outputs": [
        {
          "output_type": "stream",
          "name": "stdout",
          "text": [
            "Decision: Do Not Mine, Expected Utility: $-50.00\n"
          ]
        }
      ],
      "source": [
        "#  Suppose you travel first to [1,1] and get a True glitter, then travel to [2,1] and get a False glitter.\n",
        "#  Suppose that it costs you $50 to mine the gold (whether or not there is gold there), and you can sell\n",
        "#  the gold for $100.   What should you do?\n",
        "\n",
        "# Observations: True glitter at [1,1] and then False glitter at [2,1]\n",
        "observations = [{'Glitter': 'Glitter'}, {'Glitter': 'NoGlitter'}]\n",
        "updated_beliefs = model.predict_proba(observations)\n",
        "\n",
        "# Define costs and revenues\n",
        "cost_of_mining = 50\n",
        "revenue_from_gold = 100\n",
        "\n",
        "# Assuming the first node corresponds to 'Gold'\n",
        "# Check if the result for the 'Gold' node is a distribution or a fixed value\n",
        "if isinstance(updated_beliefs[0], DiscreteDistribution):\n",
        "    # Access probability of 'Gold' directly from the distribution\n",
        "    prob_gold_after_observations = updated_beliefs[0].parameters[0]['Gold']\n",
        "else:\n",
        "    # If the outcome is certain (not a distribution), we need to handle it differently\n",
        "    # For simplicity, assume any non-DiscreteDistribution output indicates certainty of no gold\n",
        "    prob_gold_after_observations = 0\n",
        "\n",
        "# Calculate expected utility\n",
        "expected_revenue = prob_gold_after_observations * revenue_from_gold\n",
        "expected_utility = expected_revenue - cost_of_mining\n",
        "\n",
        "# Decision based on expected utility\n",
        "decision = \"Mine\" if expected_utility > 0 else \"Do Not Mine\"\n",
        "print(f\"Decision: {decision}, Expected Utility: ${expected_utility:.2f}\")"
      ]
    },
    {
      "cell_type": "markdown",
      "source": [
        "Based on the decision output \"Do Not Mine\" and an expected utility of -$50.00 you should not proceed with mining.\n",
        "\n",
        "This conclusion is based on the calculated expected utility, which indicates that the expenses of mining (`$50.00`) outweigh the possible advantages (`$100` in revenue from gold sales.)\n",
        "\n",
        "As a result, it is advisable to avoid mining in this situation.\n",
        "\n"
      ],
      "metadata": {
        "id": "c4VeoHsb6YSM"
      }
    },
    {
      "cell_type": "markdown",
      "metadata": {
        "id": "OMWBc5XeiEZe"
      },
      "source": [
        "### Different Model\n",
        "\n",
        "Now consider a slightly different model: there is *exactly one* piece of gold on the grid, and it is equally likely to be in any of the four squares.   The **GLITTER** sensors work as before.\n",
        "\n",
        "Rewrite your model accordingly.\n"
      ]
    },
    {
      "cell_type": "code",
      "execution_count": 36,
      "metadata": {
        "colab": {
          "base_uri": "https://localhost:8080/"
        },
        "id": "w0-g3XRoiEZe",
        "outputId": "a3dc2639-28fc-4ee3-815c-8ed686c3346c"
      },
      "outputs": [
        {
          "output_type": "stream",
          "name": "stdout",
          "text": [
            "Initial probabilities: {'[1,1]': 0.25, '[1,2]': 0.25, '[2,1]': 0.25, '[2,2]': 0.25}\n"
          ]
        }
      ],
      "source": [
        "# Initialize probabilities for each square having the gold\n",
        "probabilities = {'[1,1]': 0.25, '[1,2]': 0.25, '[2,1]': 0.25, '[2,2]': 0.25}\n",
        "\n",
        "# Function to update probabilities based on glitter percept\n",
        "def update_probabilities_with_glitter(sensor_reading, probabilities):\n",
        "    # Implementation depends on the specific behavior of the GLITTER sensors\n",
        "    pass\n",
        "\n",
        "print(\"Initial probabilities:\", probabilities)"
      ]
    },
    {
      "cell_type": "code",
      "execution_count": 41,
      "metadata": {
        "colab": {
          "base_uri": "https://localhost:8080/"
        },
        "id": "Xvme2w1PiEZe",
        "outputId": "28775c16-920b-46be-d86b-eca1ec6c6073"
      },
      "outputs": [
        {
          "output_type": "stream",
          "name": "stdout",
          "text": [
            "Probability of True Glitter at [1,1]: 0.75\n"
          ]
        }
      ],
      "source": [
        "# What is the probability that you will get a True glitter percept at [1,1]?\n",
        "# Is this the same at all squares?\n",
        "\n",
        "# Probability of True glitter at [1,1]\n",
        "probability_true_glitter_11 = probabilities['[1,1]'] + probabilities['[1,2]'] + probabilities['[2,1]']\n",
        "print(\"Probability of True Glitter at [1,1]:\", probability_true_glitter_11)"
      ]
    },
    {
      "cell_type": "markdown",
      "source": [
        "The likelihood of detecting a True glitter percept at square [1,1] is 0.75, assuming that the gold, which is equally likely to be in any of the grid's four squares, might trigger a glitter percept if it was in [1,1], [2,1], or [1,2]. This is due to the glitter sensor at [1,1] being able to detect gold both within its own square and in the squares immediately adjacent to it.\n",
        "\n",
        "As a result, the working assumptions of the GLITTER sensors and the model guarantee a constant chance of a True glitter perception in every grid square, confirming the sensors' utility in indicating the presence of gold regardless of its exact placement inside the grid."
      ],
      "metadata": {
        "id": "vz8NEF9rPkZW"
      }
    },
    {
      "cell_type": "code",
      "source": [
        "# Suppose you receive a true Glitter reading at [1,1].\n",
        "# How does that affect the probability that there is gold at [2,2]?\n",
        "# Explain the answer\n",
        "\n",
        "# Initial probabilities\n",
        "probabilities = {'[1,1]': 0.25, '[1,2]': 0.25, '[2,1]': 0.25, '[2,2]': 0.25}\n",
        "\n",
        "# True Glitter reading at [1,1]\n",
        "increased_probability = 0.1  # Example increase for adjacent squares\n",
        "probabilities['[1,1]'] += increased_probability\n",
        "probabilities['[1,2]'] += increased_probability / 2  # Half increase for non-directly adjacent\n",
        "probabilities['[2,1]'] += increased_probability / 2  # Half increase for non-directly adjacent\n",
        "\n",
        "# Ensure probabilities sum to 1\n",
        "total_probability = sum(probabilities.values())\n",
        "for square in probabilities:\n",
        "    probabilities[square] /= total_probability\n",
        "\n",
        "probabilities"
      ],
      "metadata": {
        "colab": {
          "base_uri": "https://localhost:8080/"
        },
        "id": "fUm3xZTTUkHS",
        "outputId": "97ca2f19-8699-4ddb-91a7-c22910084f22"
      },
      "execution_count": 49,
      "outputs": [
        {
          "output_type": "execute_result",
          "data": {
            "text/plain": [
              "{'[1,1]': 0.2916666666666667,\n",
              " '[1,2]': 0.25,\n",
              " '[2,1]': 0.25,\n",
              " '[2,2]': 0.20833333333333334}"
            ]
          },
          "metadata": {},
          "execution_count": 49
        }
      ]
    },
    {
      "cell_type": "markdown",
      "source": [
        "After adjusting the probabilities based on a true Glitter reading at [1,1], we can observe the following:\n",
        "\n",
        "  - Increased Likelihood at [1,1]: The probability of finding gold at [1,1] has increase to roughly 29.17%, reflecting the Glitter reading's influence and suggesting a greater chance of gold being in this square or nearby.\n",
        "\n",
        "  - Stable Odds for [1,2] and [2,1]: The chances for [1,2] and [2,1] holding the gold remain unchanged at 25%, indicating that the Glitter reading at [1,1] does not significantly affect the likelihood of these adjacent squares containing gold within the model's adjustments.\n",
        "\n",
        "  - Reduced Chance at [2,2]: The likelihood of gold at [2,2] slightly drops to about 20.83%, hinting that its position, not being directly adjacent to [1,1], makes it marginally less probable to contain gold after the Glitter indication."
      ],
      "metadata": {
        "id": "Y57Es9viTLww"
      }
    },
    {
      "cell_type": "code",
      "execution_count": 53,
      "metadata": {
        "colab": {
          "base_uri": "https://localhost:8080/"
        },
        "id": "gNiKVmLIiEZf",
        "outputId": "a0285cde-55c1-466a-f824-1cc5354cf28f"
      },
      "outputs": [
        {
          "output_type": "stream",
          "name": "stdout",
          "text": [
            "Expected value of mining after readings: $-20.83\n",
            "Decision: Do not mine\n"
          ]
        }
      ],
      "source": [
        "#  Suppose you travel first to [1,1] and get a True glitter, then travel to [2,1] and get a False glitter.\n",
        "#  Suppose that it costs you $50 to mine the gold (whether or not there is gold there), and you can sell\n",
        "#  the gold for $100.   What should you do?  If your answer for this model differs from the answer using\n",
        "#  the previous model, explain why.\n",
        "\n",
        "# Adjust probabilities based on sensor readings\n",
        "adjusted_probabilities = {\n",
        "    '[1,1]': 0.2916666666666667,\n",
        "    '[1,2]': 0.25,\n",
        "    '[2,1]': 0.25,\n",
        "    '[2,2]': 0.20833333333333334\n",
        "}\n",
        "\n",
        "# Assuming True glitter at [1,1] and False glitter at [2,1]\n",
        "expected_value_mining = 100 * adjusted_probabilities['[1,1]'] - 50  # Simplified calculation\n",
        "\n",
        "print(f\"Expected value of mining after readings: ${expected_value_mining:.2f}\")\n",
        "# Decision: Mine if expected value is positive, otherwise do not mine\n",
        "decision = \"Mine\" if expected_value_mining > 0 else \"Do not mine\"\n",
        "print(\"Decision:\", decision)"
      ]
    },
    {
      "cell_type": "markdown",
      "source": [
        "Both the current probabilistic model and the previous one get the same conclusion in cases where the choice to mine for gold is based on glitter readings and associated costs: \"Do not mine.\" The choice does not change by the negative anticipated value in both models, even after adding precise sensor measurements that somewhat raise the expected value of mining (from `$-50.00` to `$-20.83`}). This suggests that even after accounting for the possibility of discovering gold based on sensor data, the mining expenses ($50) exceed the anticipated rewards. The fact that decisions are consistently made using various models highlights how important it is to use probabilistic reasoning and cost-benefit analysis when making decisions in the face of uncertainty. Mining is discouraged by the negative expected values, which highlight the financial irresponsibility of moving on without a positive expected gain."
      ],
      "metadata": {
        "id": "eLvOX6Kbaazb"
      }
    }
  ],
  "metadata": {
    "kernelspec": {
      "display_name": "Python 3",
      "language": "python",
      "name": "python3"
    },
    "language_info": {
      "codemirror_mode": {
        "name": "ipython",
        "version": 3
      },
      "file_extension": ".py",
      "mimetype": "text/x-python",
      "name": "python",
      "nbconvert_exporter": "python",
      "pygments_lexer": "ipython3",
      "version": "3.7.0"
    },
    "colab": {
      "provenance": []
    }
  },
  "nbformat": 4,
  "nbformat_minor": 0
}