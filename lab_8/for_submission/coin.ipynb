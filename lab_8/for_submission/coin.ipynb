{
  "cells": [
    {
      "cell_type": "markdown",
      "metadata": {
        "id": "IV0-zueRh5FD"
      },
      "source": [
        "####  Two Different Kinds of Coin Flip\n",
        "\n",
        "The first scenario was covered in class:  we have two coins, **C1** and **C2** that can flip either *heads* or *tails*.\n",
        "We know that either both coins are fair, or they both are not fair.  If a coin is fair, it flips heads 50\\% of the time and tails 50\\% of the time.  If a coin is not fair, it flips heads 90\\% of the time and tails 10\\% of the time.  Initially you have no information about whether or not the coins are fair.\n",
        "\n",
        "Construct the network modeling this scenario, and use it to determine the probability that both coins will flip *heads* if both are flipped exactly once.\n"
      ]
    },
    {
      "cell_type": "code",
      "execution_count": 7,
      "metadata": {
        "id": "BmhRAamXh5FE"
      },
      "outputs": [],
      "source": [
        "from pomegranate import *\n",
        "\n",
        "# Define the probability distributions\n",
        "fairness_distribution = DiscreteDistribution({'Fair': 0.5, 'Unfair': 0.5})\n",
        "coin_flip_distribution_fair = ConditionalProbabilityTable(\n",
        "    [['Fair', 'Heads', 0.5],\n",
        "     ['Fair', 'Tails', 0.5],\n",
        "     ['Unfair', 'Heads', 0.9],\n",
        "     ['Unfair', 'Tails', 0.1]],\n",
        "    [fairness_distribution])\n",
        "\n",
        "# Define the nodes\n",
        "fairness_node = State(fairness_distribution, name=\"Fairness\")\n",
        "c1_node = State(coin_flip_distribution_fair, name=\"C1\")\n",
        "c2_node = State(coin_flip_distribution_fair, name=\"C2\")\n",
        "\n",
        "# Build the model\n",
        "model = BayesianNetwork(\"Two Coin Flips\")\n",
        "model.add_states(fairness_node, c1_node, c2_node)\n",
        "model.add_edge(fairness_node, c1_node)\n",
        "model.add_edge(fairness_node, c2_node)\n",
        "model.bake()"
      ]
    },
    {
      "cell_type": "code",
      "execution_count": 8,
      "metadata": {
        "id": "R4UeR9qvh5FE",
        "colab": {
          "base_uri": "https://localhost:8080/"
        },
        "outputId": "fdf8f0d5-100b-4e19-b681-0408bc2d5b8c"
      },
      "outputs": [
        {
          "output_type": "stream",
          "name": "stdout",
          "text": [
            "Probability of both coins flipping heads: [0.125 0.405]\n"
          ]
        }
      ],
      "source": [
        "# Compute and print the probability that both coins will flip heads\n",
        "prob_both_heads = model.probability([['Fair', 'Heads', 'Heads'],\n",
        "                                     ['Unfair', 'Heads', 'Heads']])\n",
        "print(f\"Probability of both coins flipping heads: {prob_both_heads}\")"
      ]
    },
    {
      "cell_type": "markdown",
      "metadata": {
        "id": "LLeyO9Y0h5FE"
      },
      "source": [
        "The definition of unconditional indepencence says that C3 is independent of C4 if $P(C3 | C4) = P(C3)$.\n",
        "Is it the case that in scenario, C3 and C4 are unconditionally independent?  Why or why not?"
      ]
    },
    {
      "cell_type": "markdown",
      "metadata": {
        "id": "yT5-R_d4h5FE"
      },
      "source": [
        "\n",
        "In the given scenario, C3 and C4 are described as being unconditionally independent. This means that the probability of C3 flipping heads or tails is not influenced by the outcome of C4, and vice versa. According to the definition of unconditional independence,\n",
        "P(C3∣C4)=P(C3), and similarly,\n",
        "P(C4∣C3)=P(C4). So, yes, C3 and C4 are unconditionally independent because their outcomes do not influence each other, adhering to the definition of unconditional independence."
      ]
    },
    {
      "cell_type": "markdown",
      "metadata": {
        "id": "aFJT1UkSh5FE"
      },
      "source": [
        "One of the properties of conditional independence is that if C1 and C2 are independent conditioned on F, then if you know the state of F, knowledge about the state of C1 does not change the probability of C2.  That is,\n",
        "\n",
        "$P(C1 | F, C2) = P(C1 | F)$\n",
        "\n",
        "and\n",
        "\n",
        "$P(C1 | \\neg F, C2) = P(C1 | \\neg F)$\n",
        "\n",
        "Recall that by definition, in a Bayesian network, children of a common parent are independent conditioned on their parent.  Demonstrate that his property holds in the Coins network you just built."
      ]
    },
    {
      "cell_type": "markdown",
      "metadata": {
        "id": "2W6rXI-lh5FE"
      },
      "source": [
        "In this scenario, F has two states: Fair (F) and Unfair (¬F). The probabilities of C1 and C2 flipping heads or tails are conditioned on F. If F is known, the flips of C1 and C2 are independent of each other.\n",
        "\n",
        "  - Knowing that C1 flipped heads (or tails) does not change the probability of C2 flipping heads or tails, which remains 0.5 for heads and 0.5 for tails because both coins adhere to F's fairness.\n",
        "\n",
        "  - Similarly, if we know F is Unfair, the outcome of C1 does not affect the probability of C2's flip. Both are influenced solely by ¬F, with a 0.9 probability for heads and 0.1 for tails.\n",
        "\n",
        "Observing the outcome of C1 does not provide additional information about C2's flip once we know the state of F. This is because the conditional probabilities of C1 and C2's outcomes are determined entirely by F, making C1 and C2 conditionally independent of each other given F."
      ]
    },
    {
      "cell_type": "markdown",
      "metadata": {
        "id": "V5go5C3Bh5FE"
      },
      "source": [
        "#### Second scenario\n",
        "\n",
        "Now consider a different scenario:  a child node with two parents.\n",
        "\n",
        "* C3 is a coin that flips *heads* 75\\% of the time and *tails* 25\\% of the time\n",
        "* C4 is a coin that flips *heads* 35\\% of the time and *tails* 65\\% of the time\n",
        "* C3 and C4 are independent in the sense that no \"bias\" machine that produced them both\n",
        "* C3 and C4 are both flipped a single time\n",
        "* L is a light that is supposed go *on* if and only if both C3 and C4 flip heads\n",
        "* But L sometimes malfunctions\n",
        "   * .1\\% of the time L does not go *on* even though both C3 and C4 flipped heads\n",
        "   * .01\\% of the time L goes on even though C3 and C4 did not both flip heads"
      ]
    },
    {
      "cell_type": "code",
      "execution_count": 9,
      "metadata": {
        "id": "DJ3IG2KPh5FE"
      },
      "outputs": [],
      "source": [
        "# Coin C3 and C4 distributions\n",
        "c3_distribution = DiscreteDistribution({'Heads': 0.75, 'Tails': 0.25})\n",
        "c4_distribution = DiscreteDistribution({'Heads': 0.35, 'Tails': 0.65})\n",
        "\n",
        "# Light (L) behavior based on C3 and C4 flips\n",
        "l_distribution = ConditionalProbabilityTable(\n",
        "    [['Heads', 'Heads', 'On', 0.999],\n",
        "     ['Heads', 'Heads', 'Off', 0.001],\n",
        "     ['Heads', 'Tails', 'On', 0.0001],\n",
        "     ['Heads', 'Tails', 'Off', 0.9999],\n",
        "     ['Tails', 'Heads', 'On', 0.0001],\n",
        "     ['Tails', 'Heads', 'Off', 0.9999],\n",
        "     ['Tails', 'Tails', 'On', 0.0001],\n",
        "     ['Tails', 'Tails', 'Off', 0.9999]],\n",
        "    [c3_distribution, c4_distribution])\n",
        "\n",
        "# Define the nodes\n",
        "c3_node = State(c3_distribution, name=\"C3\")\n",
        "c4_node = State(c4_distribution, name=\"C4\")\n",
        "l_node = State(l_distribution, name=\"Light\")\n",
        "\n",
        "# Build the Bayesian Network\n",
        "model = BayesianNetwork(\"Coin and Light Scenario\")\n",
        "model.add_states(c3_node, c4_node, l_node)\n",
        "model.add_edge(c3_node, l_node)\n",
        "model.add_edge(c4_node, l_node)\n",
        "model.bake()"
      ]
    },
    {
      "cell_type": "code",
      "execution_count": 21,
      "metadata": {
        "id": "AGMJ7lrXh5FE",
        "colab": {
          "base_uri": "https://localhost:8080/"
        },
        "outputId": "3f024da4-02d5-4193-dd27-e77d4e730584"
      },
      "outputs": [
        {
          "output_type": "stream",
          "name": "stdout",
          "text": [
            "[2.622375e-01 4.875000e-05 8.750000e-06 1.625000e-05]\n"
          ]
        }
      ],
      "source": [
        "# Given no other information, what's the probability that the light will go on?\n",
        "\n",
        "probability_light_on = model.probability([['Heads', 'Heads', 'On'],\n",
        "                                            ['Heads', 'Tails', 'On'],\n",
        "                                            ['Tails', 'Heads', 'On'],\n",
        "                                            ['Tails', 'Tails', 'On']])\n",
        "\n",
        "print(probability_light_on)"
      ]
    },
    {
      "cell_type": "code",
      "source": [
        "probability_light_on = sum([2.622375e-01, 4.875000e-05, 8.750000e-06, 1.625000e-05])\n",
        "print(\"Probability the light will go on:\", probability_light_on)"
      ],
      "metadata": {
        "colab": {
          "base_uri": "https://localhost:8080/"
        },
        "id": "mPJo6e5qi3J1",
        "outputId": "269a6f67-96c8-4bcc-8ea5-ec132306f1ab"
      },
      "execution_count": 18,
      "outputs": [
        {
          "output_type": "stream",
          "name": "stdout",
          "text": [
            "Probability the light will go on: 0.26231125\n"
          ]
        }
      ]
    },
    {
      "cell_type": "code",
      "execution_count": 22,
      "metadata": {
        "id": "3qS3PGqCh5FE",
        "colab": {
          "base_uri": "https://localhost:8080/"
        },
        "outputId": "af1dbc98-dac3-4663-dcba-1ca5c4690d74"
      },
      "outputs": [
        {
          "output_type": "stream",
          "name": "stdout",
          "text": [
            "Probability C4 flipped heads given the light is on: 0.9997522027743754\n"
          ]
        }
      ],
      "source": [
        "# Suppose you observe the light on, what is the probability that coin4 flipped heads?\n",
        "\n",
        "observations = {'Light': 'On'}\n",
        "probabilities = model.predict_proba(observations)\n",
        "\n",
        "print(\"Probability C4 flipped heads given the light is on:\", probabilities[1].parameters[0]['Heads'])"
      ]
    },
    {
      "cell_type": "code",
      "execution_count": 23,
      "metadata": {
        "id": "pbppZQ9yh5FF",
        "colab": {
          "base_uri": "https://localhost:8080/"
        },
        "outputId": "0aa01142-8883-4fa2-8be6-d79103dac937"
      },
      "outputs": [
        {
          "output_type": "stream",
          "name": "stdout",
          "text": [
            "Prior probability that C4 flips heads: 0.35\n"
          ]
        }
      ],
      "source": [
        "# What is the prior probability that coin4 flips heads? Compute and print the probability.\n",
        "\n",
        "print(\"Prior probability that C4 flips heads:\", c4_distribution.parameters[0]['Heads'])"
      ]
    },
    {
      "cell_type": "code",
      "execution_count": 24,
      "metadata": {
        "id": "2_c5RHmFh5FF",
        "colab": {
          "base_uri": "https://localhost:8080/"
        },
        "outputId": "d9d86f2c-f854-4fe9-9356-ef719d49d278"
      },
      "outputs": [
        {
          "output_type": "stream",
          "name": "stdout",
          "text": [
            "Belief about C4 flipping heads given C3 flipped heads: 0.3500000000000001\n"
          ]
        }
      ],
      "source": [
        "# Now you observe that coin3 flipped heads;  does that change your believe that coin4 flipped heads?\n",
        "\n",
        "# Assuming implementation of predict_proba or equivalent functionality\n",
        "observations = {'C3': 'Heads'}\n",
        "probabilities = model.predict_proba(observations)\n",
        "\n",
        "print(\"Belief about C4 flipping heads given C3 flipped heads:\", probabilities[1].parameters[0]['Heads'])"
      ]
    },
    {
      "cell_type": "markdown",
      "source": [
        "Based on the output above, this indicates that observing Coin 3 (C3) flipping heads does not change the belief about Coin 4 (C4) flipping heads; the probability remains at 35.00000000000001%, essentially 35%.\n",
        "\n",
        "  - C3 and C4 are independent of each other.\n",
        "  - The prior probability of C4 flipping heads was given at 35%. After observing C3 flip heads, the calculated probability of C4 flipping heads remains at 35%."
      ],
      "metadata": {
        "id": "Bd8g4WVjknb7"
      }
    },
    {
      "cell_type": "markdown",
      "metadata": {
        "id": "VrN3KFYYh5FF"
      },
      "source": [
        "By the definition of independence, random variable C3 is (unconditionally) independent of C4 if\n",
        "$P(C3 | C4) = P(C3)$\n",
        "\n",
        "Is it true then that C3 and C4 are unconditionally independent even though they have a common child?\n",
        "How does this contrast with the situation in the first model where C1 and C2 were not"
      ]
    },
    {
      "cell_type": "markdown",
      "metadata": {
        "id": "Ndh7KnRbh5FF"
      },
      "source": [
        "C3 and C4 are described as independent coins, meaning the outcome of one does not influence the outcome of the other. This independence is reflected in the statement\n",
        "P(C3∣C4)=P(C3), which holds true by the scenario's design. The flip of C4 does not provide any information about the flip of C3 and vice versa, so their probabilities remain unchanged regardless of knowledge about the other's outcome.\n",
        "\n",
        "In addition, this independence holds true despite them having a common child (L) in the Bayesian network, which introduces conditional dependence when the state of L is known but does not affect their unconditional independence.\n",
        "\n",
        "As for C1 and C2, the coins were either both fair or both unfair, implying a dependency between their states. Their fairness was linked by a common factor (their fairness/unfairness), which directly influenced their probabilities of flipping heads or tails. Knowledge about the state of one coin (fair or unfair) would directly inform the state of the other, making them conditionally dependent based on their fairness.\n",
        "\n"
      ]
    },
    {
      "cell_type": "markdown",
      "metadata": {
        "id": "Mvfb0GuPh5FF"
      },
      "source": [
        "Return to the definition of conditional independence above, where C1 and C2 were independent conditioned on their common parent.  Are C3 and C4 independent conditioned on their common child?"
      ]
    },
    {
      "cell_type": "markdown",
      "metadata": {
        "id": "ymGUVzsbh5FF"
      },
      "source": [
        "In the context of Bayesian networks, C3 and C4 are initially independent, meaning the outcome of one does not affect the outcome of the other. However, when considering their common child, L (the light), this independence is conditional. Before knowing L's state, C3 and C4's outcomes are independent. Yet, once L's state is known, C3 and C4 become conditionally dependent on each other due to the information L's state provides about their joint outcomes.\n"
      ]
    },
    {
      "cell_type": "markdown",
      "metadata": {
        "id": "R9s8TCUah5FF"
      },
      "source": [
        "Summarize the different in independence assumptions between the two scenarios\n",
        "* In the first scenario there were two children with a common parent\n",
        "* In the second scenario there were two parents with a common child"
      ]
    },
    {
      "cell_type": "markdown",
      "metadata": {
        "id": "DZMrFcCWh5FF"
      },
      "source": [
        "First Scenario (Two Children with a Common Parent): This setup involves two nodes (C1 and C2) linked by a common parent representing an underlying condition affecting both (e.g., the fairness of coins). The key feature is conditional independence: once the condition of the parent (fairness) is known, the outcomes of C1 and C2 are independent of each other. Their behavior is dictated by the parent's state, but not by each other's outcomes directly.\n",
        "\n",
        "Second Scenario (Two Parents with a Common Child): Here, two independent nodes (C3 and C4) act as parents to a common child node (L), whose state depends on the outcomes of C3 and C4. Initially, C3 and C4 are unconditionally independent; their actions don't influence each other. However, conditional dependence emerges when considering the state of L: the state of the child introduces a link between C3 and C4, making their outcomes dependent when analyzed through the lens of L's state.\n",
        "\n",
        "Direction of Influence: In the first scenario, influence flows from the parent to the children, and knowledge of the parent's state reveals the children's independence. The second observes the influence of the child's status on its parents, indicating their conditional dependence.\n",
        "\n",
        "Overall, understanding conditional independence versus conditional dependency is critical. The first scenario's conditional independence is revealed by knowledge of the parent's state, whereas the second scenario's conditional dependency arises from observations of the child's state.\n",
        "\n"
      ]
    }
  ],
  "metadata": {
    "colab": {
      "provenance": []
    },
    "kernelspec": {
      "display_name": "Python 3",
      "language": "python",
      "name": "python3"
    },
    "language_info": {
      "codemirror_mode": {
        "name": "ipython",
        "version": 3
      },
      "file_extension": ".py",
      "mimetype": "text/x-python",
      "name": "python",
      "nbconvert_exporter": "python",
      "pygments_lexer": "ipython3",
      "version": "3.7.0"
    }
  },
  "nbformat": 4,
  "nbformat_minor": 0
}