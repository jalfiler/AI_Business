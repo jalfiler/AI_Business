{
  "cells": [
    {
      "cell_type": "markdown",
      "metadata": {
        "id": "wm-blBQkh4jB"
      },
      "source": [
        "### Bayesian Network Inference Library\n",
        "\n",
        "We will be using the pomegranate library for Bayes Net inference\n",
        "\n",
        "  * Installation instructions https://pomegranate.readthedocs.io/en/latest/install.html\n",
        "  * Tutorial / documentation https://pomegranate.readthedocs.io/en/latest/BayesianNetwork.html\n",
        "  \n",
        "In the tutorial / documentation, ignore the parts about \"initializing a Bayesian network based completely on data\" and the sections on \"Probability\" \"Prediction\" and \"Fitting\" -- see the example below on how to determine the probability distribution on a node in the graph based on evidence.\n",
        "\n",
        "\n",
        "In the cell below is the \"alarm network\" example from the class slides."
      ]
    },
    {
      "cell_type": "markdown",
      "metadata": {
        "id": "gL_auRhah4jC"
      },
      "source": [
        "![Alarm](alarm.GIF)"
      ]
    },
    {
      "cell_type": "code",
      "execution_count": 6,
      "metadata": {
        "id": "rALW0tLYh4jC"
      },
      "outputs": [],
      "source": [
        "from pomegranate import *\n",
        "\n",
        "# Define probability distributions for the root nodes (Burglary & Earthquake)\n",
        "burglary = DiscreteDistribution({'+b': 0.001, '-b': 0.999})\n",
        "earthquake = DiscreteDistribution({'+e': 0.002, '-e': 0.998})\n",
        "\n",
        "# Conditional probability distribution for the Alarm node, given Burglary and Earthquake\n",
        "alarm = ConditionalProbabilityTable(\n",
        "    [['+b', '+e', '+a', 0.95],\n",
        "     ['+b', '+e', '-a', 0.05],\n",
        "     ['+b', '-e', '+a', 0.94],\n",
        "     ['+b', '-e', '-a', 0.06],\n",
        "     ['-b', '+e', '+a', 0.29],\n",
        "     ['-b', '+e', '-a', 0.71],\n",
        "     ['-b', '-e', '+a', 0.001],\n",
        "     ['-b', '-e', '-a', 0.999]],\n",
        "   [burglary, earthquake]\n",
        ")\n",
        "\n",
        "# Conditional probability distribution for John Calls, given Alarm\n",
        "john_calls = ConditionalProbabilityTable(\n",
        "    [['+a', '+j', 0.9],\n",
        "     ['+a', '-j', 0.1],\n",
        "     ['-a', '+j', 0.05],\n",
        "     ['-a', '-j', 0.95]],\n",
        "    [alarm]\n",
        ")\n",
        "\n",
        "# Conditional probability distribution for Mary Calls, given Alarm\n",
        "mary_calls = ConditionalProbabilityTable(\n",
        "    [['+a', '+m', 0.7],\n",
        "     ['+a', '-m', 0.3],\n",
        "     ['-a', '+m', 0.01],\n",
        "     ['-a', '-m', 0.99]],\n",
        "    [alarm]\n",
        ")\n",
        "\n",
        "# Create states for each node\n",
        "s_burglary = State(burglary, name = 'Burglary')\n",
        "s_earthquake = State(earthquake, name = 'Earthquake')\n",
        "s_alarm = State(alarm, name = 'Alarm')\n",
        "s_john_calls = State(john_calls, name = 'John Calls')\n",
        "s_mary_calls = State(mary_calls, name = 'Mary Calls')\n",
        "\n",
        "# Initialize the Bayesian Network\n",
        "model = BayesianNetwork(\"Alarm Network\")\n",
        "\n",
        "# Add states to the network\n",
        "model.add_states(s_burglary, s_earthquake, s_alarm, s_john_calls, s_mary_calls)\n",
        "\n",
        "# Add edges between the states to represent the conditional dependencies\n",
        "model.add_edge(s_burglary, s_alarm)\n",
        "model.add_edge(s_earthquake, s_alarm)\n",
        "model.add_edge(s_alarm, s_john_calls)\n",
        "model.add_edge(s_alarm, s_mary_calls)\n",
        "\n",
        "# Bake model\n",
        "model.bake()"
      ]
    },
    {
      "cell_type": "code",
      "execution_count": 7,
      "metadata": {
        "id": "htjZK_oah4jD",
        "colab": {
          "base_uri": "https://localhost:8080/"
        },
        "outputId": "6c9194fe-7856-43c6-9325-f4967cab7399"
      },
      "outputs": [
        {
          "output_type": "stream",
          "name": "stdout",
          "text": [
            "The probability of an earthquake with no evidence is:\n",
            "{\n",
            "    \"class\" : \"Distribution\",\n",
            "    \"dtype\" : \"str\",\n",
            "    \"name\" : \"DiscreteDistribution\",\n",
            "    \"parameters\" : [\n",
            "        {\n",
            "            \"+e\" : 0.0020000000000004424,\n",
            "            \"-e\" : 0.9979999999999996\n",
            "        }\n",
            "    ],\n",
            "    \"frozen\" : false\n",
            "}\n"
          ]
        }
      ],
      "source": [
        "# Compute and print the probability that there is an earthquake, based on no evidence\n",
        "beliefs = model.predict_proba({})\n",
        "earthquake_belief = beliefs[model.states.index(s_earthquake)]\n",
        "\n",
        "print(\"The probability of an earthquake with no evidence is:\")\n",
        "print(earthquake_belief)"
      ]
    },
    {
      "cell_type": "code",
      "execution_count": 8,
      "metadata": {
        "id": "MMiuntekh4jD",
        "colab": {
          "base_uri": "https://localhost:8080/"
        },
        "outputId": "03810cd4-bff7-4317-b92d-55c83cdb6349"
      },
      "outputs": [
        {
          "output_type": "stream",
          "name": "stdout",
          "text": [
            "The likelihood of the alarm going off based on no evidence is: \n",
            "{\n",
            "    \"class\" : \"Distribution\",\n",
            "    \"dtype\" : \"str\",\n",
            "    \"name\" : \"DiscreteDistribution\",\n",
            "    \"parameters\" : [\n",
            "        {\n",
            "            \"-a\" : 0.997483557999999,\n",
            "            \"+a\" : 0.0025164420000009344\n",
            "        }\n",
            "    ],\n",
            "    \"frozen\" : false\n",
            "}\n"
          ]
        }
      ],
      "source": [
        "# Based on no more evidence, what is the likelihood that the alarm goes off\n",
        "# Simply compute and print the probability\n",
        "alarm_belief = beliefs[model.states.index(s_alarm)]\n",
        "\n",
        "print(\"The likelihood of the alarm going off based on no evidence is: \")\n",
        "print(alarm_belief)"
      ]
    },
    {
      "cell_type": "code",
      "execution_count": 26,
      "metadata": {
        "id": "esLkfeHdh4jD",
        "colab": {
          "base_uri": "https://localhost:8080/"
        },
        "outputId": "3e7aa709-5a85-4823-cf16-f68aef3cff8b"
      },
      "outputs": [
        {
          "output_type": "stream",
          "name": "stdout",
          "text": [
            "The probability of an earthquake given a call from Mary but not John is:\n",
            "{\n",
            "    \"class\" : \"Distribution\",\n",
            "    \"dtype\" : \"str\",\n",
            "    \"name\" : \"DiscreteDistribution\",\n",
            "    \"parameters\" : [\n",
            "        {\n",
            "            \"+e\" : 0.0056121515205590665,\n",
            "            \"-e\" : 0.994387848479441\n",
            "        }\n",
            "    ],\n",
            "    \"frozen\" : false\n",
            "}\n"
          ]
        }
      ],
      "source": [
        "##  Suppose you get a call from Mary but not John, what is the probability\n",
        "##  that there was an earthquarke.  This cell should compute and print that\n",
        "##  probability.\n",
        "beliefs = model.predict_proba({'Mary Calls': '+m', 'John Calls': '-j'})\n",
        "earthquake_belief = beliefs[model.states.index(s_earthquake)]\n",
        "\n",
        "print(\"The probability of an earthquake given a call from Mary but not John is:\")\n",
        "print(earthquake_belief)"
      ]
    },
    {
      "cell_type": "code",
      "execution_count": 14,
      "metadata": {
        "id": "G4NUrGnNh4jD",
        "colab": {
          "base_uri": "https://localhost:8080/"
        },
        "outputId": "3a6d9b10-64a0-44c6-a187-cb0ed71cccf3"
      },
      "outputs": [
        {
          "output_type": "stream",
          "name": "stdout",
          "text": [
            "Probability of Burglary given that both John and Mary called (and thus the alarm went off):\n",
            "{\n",
            "    \"class\" : \"Distribution\",\n",
            "    \"dtype\" : \"str\",\n",
            "    \"name\" : \"DiscreteDistribution\",\n",
            "    \"parameters\" : [\n",
            "        {\n",
            "            \"+b\" : 0.2841718353644582,\n",
            "            \"-b\" : 0.7158281646355419\n",
            "        }\n",
            "    ],\n",
            "    \"frozen\" : false\n",
            "}\n"
          ]
        }
      ],
      "source": [
        "# Compute and print the probability that the alarm went off and there was a burglary,\n",
        "# given that both John and Mary called\n",
        "beliefs = model.predict_proba({'John Calls': '+j', 'Mary Calls': '+m'})\n",
        "burglary_belief = beliefs[model.states.index(s_burglary)]#.parameters[0]['+b']\n",
        "\n",
        "print(f\"Probability of Burglary given that both John and Mary called (and thus the alarm went off):\")\n",
        "print(burglary_belief)"
      ]
    },
    {
      "cell_type": "code",
      "execution_count": 24,
      "metadata": {
        "id": "uyz4L163h4jD",
        "colab": {
          "base_uri": "https://localhost:8080/"
        },
        "outputId": "176a1e40-b060-4776-aad8-89307d5ea506"
      },
      "outputs": [
        {
          "output_type": "stream",
          "name": "stdout",
          "text": [
            "Probability of either an Earthquake or a Burglary: 0.0029980000000008845\n"
          ]
        }
      ],
      "source": [
        "## Compute and print the probability that there was an earthquake OR a burglary given no evidence\n",
        "beliefs = model.predict_proba({})\n",
        "earthquake_belief = beliefs[model.states.index(s_earthquake)].parameters[0]['+e']\n",
        "burglary_belief = beliefs[model.states.index(s_burglary)].parameters[0]['+b']\n",
        "\n",
        "# Calculate the probability of both an earthquake and a burglary happening\n",
        "prob_both = earthquake_belief * burglary_belief\n",
        "\n",
        "# Calculate the probability of either an earthquake or a burglary happening\n",
        "prob_e_or_b = earthquake_belief + burglary_belief - prob_both\n",
        "\n",
        "print(\"Probability of either an Earthquake or a Burglary:\", prob_e_or_b)"
      ]
    },
    {
      "cell_type": "code",
      "execution_count": 27,
      "metadata": {
        "id": "Hm2tNGOuh4jD",
        "colab": {
          "base_uri": "https://localhost:8080/"
        },
        "outputId": "f7daf757-29e7-42f2-eda1-c7a9dca55309"
      },
      "outputs": [
        {
          "output_type": "stream",
          "name": "stdout",
          "text": [
            "Initial probability of an Earthquake: 0.0020000000000004424\n",
            "Updated probability of an Earthquake with evidence: 0.0020000000000004424\n",
            "Change in belief of an Earthquake: 0.0 %\n"
          ]
        }
      ],
      "source": [
        "## How much does your belief that there was an earthquake change on the basis of getting\n",
        "## a call from John but not Mary.   Compute that change and print it as a percentage.\n",
        "# Calculate initial belief in an earthquake with no evidence\n",
        "initial_beliefs = model.predict_proba({})\n",
        "initial_earthquake_probability = initial_beliefs[model.states.index(s_earthquake)].parameters[0]['+e']\n",
        "\n",
        "# Calculate updated belief in an earthquake given evidence: a call from John but not from Mary\n",
        "updated_beliefs = model.predict_proba({'JohnCalls': '+j', 'MaryCalls': '-m'})\n",
        "updated_earthquake_probability = updated_beliefs[model.states.index(s_earthquake)].parameters[0]['+e']\n",
        "\n",
        "# Calculate the change in belief\n",
        "change_in_belief = updated_earthquake_probability - initial_earthquake_probability\n",
        "\n",
        "# Express the change as a percentage of the initial belief\n",
        "change_in_belief_percentage = (change_in_belief / initial_earthquake_probability) * 100\n",
        "\n",
        "print(\"Initial probability of an Earthquake:\", initial_earthquake_probability)\n",
        "print(\"Updated probability of an Earthquake with evidence:\", updated_earthquake_probability)\n",
        "print(\"Change in belief of an Earthquake:\", change_in_belief_percentage, \"%\")"
      ]
    }
  ],
  "metadata": {
    "kernelspec": {
      "display_name": "Python 3 (ipykernel)",
      "language": "python",
      "name": "python3"
    },
    "language_info": {
      "codemirror_mode": {
        "name": "ipython",
        "version": 3
      },
      "file_extension": ".py",
      "mimetype": "text/x-python",
      "name": "python",
      "nbconvert_exporter": "python",
      "pygments_lexer": "ipython3",
      "version": "3.9.12"
    },
    "colab": {
      "provenance": []
    }
  },
  "nbformat": 4,
  "nbformat_minor": 0
}